{
 "cells": [
  {
   "cell_type": "markdown",
   "id": "2c0101cc",
   "metadata": {},
   "source": [
    "# 18. 이미지 검출(윤곽선)"
   ]
  },
  {
   "cell_type": "markdown",
   "id": "8fdc8bad",
   "metadata": {},
   "source": [
    "## 윤곽선 (Counter)  : 경계선 연결한 선"
   ]
  },
  {
   "cell_type": "code",
   "execution_count": 5,
   "id": "901dd95b",
   "metadata": {},
   "outputs": [],
   "source": [
    "import cv2\n",
    "\n",
    "img = cv2.imread('card.png')\n",
    "\n",
    "target_img = img.copy() # 사본 이미지\n",
    "\n",
    "# 윤곽선을 위해 binary 처리를 해야 한다.\n",
    "gray = cv2.cvtColor(img,cv2.COLOR_BGR2GRAY)\n",
    "ret, otsu = cv2.threshold(gray,-1,255,cv2.THRESH_BINARY | cv2.THRESH_OTSU)\n",
    "\n",
    "# 윤곽석 계층 구조\n",
    "contours, hiearchy = cv2.findContours(otsu,cv2.RETR_LIST,cv2.CHAIN_APPROX_NONE) # 윤곽선 검출\n",
    "# 윤곽선 정보, 계층 구조\n",
    "# 이미지, 윤곽선 찾는 모드(mode), 윤곽선 찾을 때 근사치 방법(method) : CHAIN_APPROX_NONE, CHAIN_APPROX_SIMPLE\n",
    "\n",
    "\n",
    "COLOR = (0,200,2) # BGR\n",
    "cv2.drawContours(target_img,contours,-1 , COLOR,2) # 윤곽선 그리기\n",
    "# 대상 이미지, 윤곽선 정보, 인덱스(-1 이면 젠체) , 색깔, 두깨\n",
    "\n",
    "\n",
    "cv2.imshow('img',img)\n",
    "cv2.imshow('gray',gray)\n",
    "cv2.imshow('otsu',otsu)\n",
    "cv2.imshow('contour',target_img)\n",
    "cv2.waitKey(0)\n",
    "cv2.destroyAllWindows()"
   ]
  },
  {
   "cell_type": "markdown",
   "id": "250a5d1d",
   "metadata": {},
   "source": [
    "### 윤곽선 찾기 모드\n",
    "1. cv2.RETR_EXTERNAL : 가장 외곽의 윤곽선만 찾음\n",
    "1. cv2.RETR_LIST : 모든 윤곽선을 찾음(계층 정보 없음)\n",
    "1. cv2.RETR_TREE : 모든 윤곽선을 찾음(계층 구조를 트리 구조로 생성)"
   ]
  },
  {
   "cell_type": "code",
   "execution_count": 16,
   "id": "7b8ddf15",
   "metadata": {},
   "outputs": [],
   "source": [
    "import cv2\n",
    "\n",
    "img = cv2.imread('card.png')\n",
    "\n",
    "target_img = img.copy()\n",
    "\n",
    "gray = cv2.cvtColor(img,cv2.COLOR_BGR2GRAY)\n",
    "ret, otsu = cv2.threshold(gray,-1,255,cv2.THRESH_BINARY|cv2.THRESH_OTSU)\n",
    "\n",
    "contours, hierarchy = cv2.findContours(otsu,cv2.RETR_EXTERNAL,cv2.CHAIN_APPROX_NONE)\n",
    "# contours,hierarchy = cv2.findContours(otsu,cv2.RETR_TREE,cv2.CHAIN_APPROX_NONE)\n",
    "# contours,hierarchy = cv2.findContours(otsu,cv2.RETR_LIST,cv2.CHAIN_APPROX_NONE)\n",
    "\n",
    "# print(hierarchy)\n",
    "# print(f'총발견 객수 : {len(contours)}')\n",
    "\n",
    "\n",
    "COLOR = (0,200,0)\n",
    "cv2.drawContours(target_img,contours,-1,COLOR,2)\n",
    "\n",
    "cv2.imshow('img',img)\n",
    "cv2.imshow('gray',gray)\n",
    "cv2.imshow('otsu',otsu)\n",
    "cv2.imshow('contour',target_img)\n",
    "\n",
    "cv2.waitKey(0)\n",
    "cv2.destroyAllWindows()"
   ]
  },
  {
   "cell_type": "markdown",
   "id": "9da05a16",
   "metadata": {},
   "source": [
    "## 경계 사각형\n",
    "윤곽선의 경계면을 둘러싸는 사각형\n",
    "> boundingRect()"
   ]
  },
  {
   "cell_type": "code",
   "execution_count": 18,
   "id": "d5826862",
   "metadata": {},
   "outputs": [],
   "source": [
    "import cv2\n",
    "img = cv2.imread('card.png')\n",
    "\n",
    "target_img = img.copy()\n",
    "\n",
    "gray = cv2.cvtColor(img,cv2.COLOR_BGR2GRAY)\n",
    "ret, otsu = cv2.threshold(gray,-1,255,cv2.THRESH_BINARY|cv2.THRESH_OTSU)\n",
    "contours,hierarchy = cv2.findContours(otsu,cv2.RETR_LIST,cv2.CHAIN_APPROX_NONE)\n",
    "# contours 가 윤곽선의 정보를 가지고 있다\n",
    "\n",
    "COLOR = (0,200,0)\n",
    "\n",
    "for cnt in contours:\n",
    "    x,y,width,height = cv2.boundingRect(cnt)\n",
    "    cv2.rectangle(target_img,(x,y),(x+width,y+height),COLOR,2) # 윤곽선 사각형 그리기\n",
    "\n",
    "cv2.imshow('img',img)\n",
    "cv2.imshow('gray',gray)\n",
    "cv2.imshow('otsu',otsu)\n",
    "cv2.imshow('contour',target_img)\n",
    "\n",
    "cv2.waitKey(0)\n",
    "cv2.destroyAllWindows()"
   ]
  },
  {
   "cell_type": "markdown",
   "id": "9a145410",
   "metadata": {},
   "source": [
    "## 윤곽선 면적\n",
    "> contourArea()"
   ]
  },
  {
   "cell_type": "code",
   "execution_count": 21,
   "id": "d1d8d2d1",
   "metadata": {},
   "outputs": [],
   "source": [
    "import cv2\n",
    "img = cv2.imread('card.png')\n",
    "target_img = img.copy()\n",
    "\n",
    "gray = cv2.cvtColor(img,cv2.COLOR_BGR2GRAY)\n",
    "\n",
    "ret, otsu = cv2.threshold(gray,-1,255,cv2.THRESH_BINARY|cv2.THRESH_OTSU)\n",
    "contours,hierarchy = cv2.findContours(otsu,cv2.RETR_LIST,cv2.CHAIN_APPROX_NONE)\n",
    "\n",
    "COLOR = (0,200,0)\n",
    "\n",
    "for cnt in contours:\n",
    "    if cv2.contourArea(cnt) > 25000:\n",
    "        x,y,width,height = cv2.boundingRect(cnt)\n",
    "        cv2.rectangle(target_img,(x,y),(x+width,y+height),COLOR,2)\n",
    "        \n",
    "cv2.imshow('img',img)\n",
    "cv2.imshow('contour',target_img)\n",
    "\n",
    "cv2.waitKey(0)\n",
    "cv2.destroyAllWindows()"
   ]
  },
  {
   "cell_type": "markdown",
   "id": "5ce2d0c4",
   "metadata": {},
   "source": [
    "## 미니 프로젝트: 개별카드 추출해서 파일 저장"
   ]
  },
  {
   "cell_type": "code",
   "execution_count": 7,
   "id": "e7ff8096",
   "metadata": {},
   "outputs": [],
   "source": [
    "import cv2\n",
    "\n",
    "img = cv2.imread('card.png')\n",
    "target_img = img.copy()\n",
    "\n",
    "gray = cv2.cvtColor(img,cv2.COLOR_BGR2GRAY)\n",
    "\n",
    "ret, otsu = cv2.threshold(gray,-1,255,cv2.THRESH_BINARY|cv2.THRESH_OTSU)\n",
    "contours, hierarchy = cv2.findContours(otsu,cv2.RETR_LIST,cv2.CHAIN_APPROX_NONE)\n",
    "\n",
    "COLOR = (0,200,0)\n",
    "\n",
    "idx = 1\n",
    "for cnt in contours:\n",
    "    if cv2.contourArea(cnt) > 25000:\n",
    "        x,y,width,height = cv2.boundingRect(cnt)\n",
    "        cv2.rectangle(target_img,(x,y),(x+width,y+height),COLOR,2)\n",
    "        \n",
    "        crop = img[y:y+height,x:x+width] # [세로:세로 , 가로:가로]\n",
    "        cv2.imshow(f'card_crop_{idx}',crop)\n",
    "        cv2.imwrite(f'card_crop_{idx}.png',crop)\n",
    "        idx+=1\n",
    "        \n",
    "cv2.imshow('img',img)\n",
    "cv2.imshow('contour',target_img)\n",
    "\n",
    "cv2.waitKey(0)\n",
    "cv2.destroyAllWindows()"
   ]
  }
 ],
 "metadata": {
  "kernelspec": {
   "display_name": "Python 3 (ipykernel)",
   "language": "python",
   "name": "python3"
  },
  "language_info": {
   "codemirror_mode": {
    "name": "ipython",
    "version": 3
   },
   "file_extension": ".py",
   "mimetype": "text/x-python",
   "name": "python",
   "nbconvert_exporter": "python",
   "pygments_lexer": "ipython3",
   "version": "3.9.7"
  }
 },
 "nbformat": 4,
 "nbformat_minor": 5
}
