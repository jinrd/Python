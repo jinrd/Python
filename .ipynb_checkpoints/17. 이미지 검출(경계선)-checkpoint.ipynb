{
 "cells": [
  {
   "cell_type": "markdown",
   "id": "4c0ddcc2",
   "metadata": {},
   "source": [
    "# 17. 이미지 검출(경계선)"
   ]
  },
  {
   "cell_type": "markdown",
   "id": "8c8fe519",
   "metadata": {},
   "source": [
    "## Canny Edge Detection"
   ]
  },
  {
   "cell_type": "code",
   "execution_count": 3,
   "id": "9c3f97cc",
   "metadata": {},
   "outputs": [],
   "source": [
    "import cv2\n",
    "\n",
    "img = cv2.imread('snowman.png')\n",
    "\n",
    "canny = cv2.Canny(img,150,200)\n",
    "# 대상 이미지, minVal(하위 임계값) , maxVal(상위 임계값)\n",
    "\n",
    "cv2.imshow('snowman',img)\n",
    "cv2.imshow('canny',canny)\n",
    "cv2.waitKey(0)\n",
    "cv2.destroyAllWindows()"
   ]
  },
  {
   "cell_type": "code",
   "execution_count": 2,
   "id": "6aeb5bb0",
   "metadata": {},
   "outputs": [],
   "source": [
    "import cv2\n",
    "\n",
    "img = cv2.imread('snowman.png')\n",
    "\n",
    "def empty(pos):\n",
    "    pass\n",
    "\n",
    "name = \"Trackbar\"\n",
    "cv2.namedWindow(name)\n",
    "cv2.createTrackbar('threshold1' , name,0,255,empty) # 하위 임계값\n",
    "cv2.createTrackbar('threshold2' , name,0,255,empty) # 상위 임계값\n",
    "\n",
    "while True:\n",
    "    threshold1 = cv2.getTrackbarPos('threshold1',name) # name 윈도우에서 threshold1의 이름을 가진 Trackbar\n",
    "    threshold2 = cv2.getTrackbarPos('threshold2',name)\n",
    "    canny = cv2.Canny(img,threshold1,threshold2)\n",
    "    # 대상 이미지, minVal(하위 임계값) , maxVal(상위 임계값)\n",
    "\n",
    "    cv2.imshow('snowman',img)\n",
    "    \n",
    "    # trackbar 가 포함된 윈도우를 보여줘야 함\n",
    "    cv2.imshow(name,canny)\n",
    "    \n",
    "    if cv2.waitKey(1) == ord('q'):\n",
    "        break\n",
    "\n",
    "\n",
    "\n",
    "cv2.destroyAllWindows()"
   ]
  },
  {
   "cell_type": "code",
   "execution_count": null,
   "id": "3b748519",
   "metadata": {},
   "outputs": [],
   "source": []
  }
 ],
 "metadata": {
  "kernelspec": {
   "display_name": "Python 3 (ipykernel)",
   "language": "python",
   "name": "python3"
  },
  "language_info": {
   "codemirror_mode": {
    "name": "ipython",
    "version": 3
   },
   "file_extension": ".py",
   "mimetype": "text/x-python",
   "name": "python",
   "nbconvert_exporter": "python",
   "pygments_lexer": "ipython3",
   "version": "3.9.7"
  }
 },
 "nbformat": 4,
 "nbformat_minor": 5
}
