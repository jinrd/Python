{
 "cells": [
  {
   "cell_type": "markdown",
   "metadata": {},
   "source": [
    "# 12. 이미지 변형(원근)"
   ]
  },
  {
   "cell_type": "markdown",
   "metadata": {},
   "source": [
    "## 사다리꼴 이미지 펼치기"
   ]
  },
  {
   "cell_type": "code",
   "execution_count": 8,
   "metadata": {
    "ExecuteTime": {
     "end_time": "2022-01-25T11:04:59.998286Z",
     "start_time": "2022-01-25T11:04:56.612387Z"
    }
   },
   "outputs": [],
   "source": [
    "import cv2\n",
    "import numpy as np\n",
    "\n",
    "img = cv2.imread('newspaper.jpg')\n",
    "\n",
    "width,height = 640,240 #가로크기 640, 세로 크기 240으로 결과물 출력\n",
    "\n",
    "src = np.array([[511,352],[1008,345],[1122,584],[455,594]],dtype=np.float32) # input 4개 지점\n",
    "dst = np.array([[0,0],[width,0],[width,height],[0,height]],dtype=np.float32) # Output 4개 지점 ,시계 방향으로 4 지점 정의\n",
    "\n",
    "matrix = cv2.getPerspectiveTransform(src,dst) # Matrix 얻어옴\n",
    "result= cv2.warpPerspective(img,matrix,(width,height)) # Matrix 대로 변환을 함\n",
    "\n",
    "\n",
    "cv2.imshow('img',img)\n",
    "cv2.imshow('result',result)\n",
    "cv2.waitKey(0)\n",
    "cv2.destroyAllWindows()"
   ]
  },
  {
   "cell_type": "markdown",
   "metadata": {},
   "source": [
    "## 회전형 이미지 올바로 세우기"
   ]
  },
  {
   "cell_type": "code",
   "execution_count": 10,
   "metadata": {
    "ExecuteTime": {
     "end_time": "2022-01-25T11:37:54.962883Z",
     "start_time": "2022-01-25T11:37:46.322482Z"
    }
   },
   "outputs": [],
   "source": [
    "import cv2\n",
    "import numpy as np\n",
    "\n",
    "img = cv2.imread('poker.jpg')\n",
    "\n",
    "width , height =530,710\n",
    "\n",
    "src = np.array([[702,143],[1133,414],[726,1007],[276,700]],dtype=np.float32)\n",
    "dst = np.array([[0,0],[width,0],[width,height],[0,height]],dtype=np.float32)\n",
    "\n",
    "matrix = cv2.getPerspectiveTransform(src,dst)\n",
    "result = cv2.warpPerspective(img,matrix,(width,height))\n",
    "\n",
    "cv2.imshow('img',img)\n",
    "cv2.imshow(\"result \",result)\n",
    "cv2.waitKey(0)\n",
    "cv2.destroyAllWindows()"
   ]
  },
  {
   "cell_type": "markdown",
   "metadata": {},
   "source": [
    "## 미니 프로젝트 : 반자동 문서 스캐너"
   ]
  },
  {
   "cell_type": "markdown",
   "metadata": {},
   "source": [
    "### 마우스 이벤트 등록"
   ]
  },
  {
   "cell_type": "code",
   "execution_count": 10,
   "metadata": {
    "ExecuteTime": {
     "end_time": "2022-01-26T09:17:00.723081Z",
     "start_time": "2022-01-26T09:16:50.270002Z"
    }
   },
   "outputs": [
    {
     "name": "stdout",
     "output_type": "stream",
     "text": [
      "왼쪽 버튼 Down\n",
      "148 152\n",
      "마우스 왼쪽 버튼 up\n",
      "148 152\n",
      "오른쪽 버튼 Down\n",
      "왼쪽 버튼 Down\n",
      "370 341\n",
      "마우스 왼쪽 버튼 up\n",
      "370 341\n",
      "마우스 Double Click\n",
      "마우스 왼쪽 버튼 up\n",
      "370 340\n"
     ]
    }
   ],
   "source": [
    "import cv2\n",
    "\n",
    "# 함수 정의\n",
    "def mouse_handler(event,x,y,flags,param):\n",
    "    if event == cv2.EVENT_LBUTTONDOWN: # 마우스 왼쪽 버튼 DOWN\n",
    "        print('왼쪽 버튼 Down')\n",
    "        print(x,y)\n",
    "    elif event == cv2.EVENT_LBUTTONUP: # 마우스 왼쪽 버튼 UP\n",
    "        print(\"마우스 왼쪽 버튼 up\")\n",
    "        print(x,y)\n",
    "    elif event == cv2.EVENT_LBUTTONDBLCLK:\n",
    "        print('마우스 Double Click')\n",
    "    elif event == cv2.EVENT_MOUSEMOVE:\n",
    "        print('마우스 move')\n",
    "    elif event == cv2.EVENT_RBUTTONDOWN:\n",
    "        print('오른쪽 버튼 Down')\n",
    "    \n",
    "img = cv2.imread('poker.jpg')\n",
    "cv2.namedWindow('img') # img 란 이름의 윈도우를 먼저 만들어 두는 것. 여기에 마우스 이벤트를 처리하기 위한 핸들러 적용\n",
    "cv2.setMouseCallback('img',mouse_handler)\n",
    "\n",
    "cv2.imshow('img',img)\n",
    "cv2.waitKey(0)\n",
    "cv2.destroyAllWindows()"
   ]
  },
  {
   "cell_type": "markdown",
   "metadata": {},
   "source": [
    "### 프로젝트(기본코드 완성)"
   ]
  },
  {
   "cell_type": "code",
   "execution_count": 16,
   "metadata": {
    "ExecuteTime": {
     "end_time": "2022-01-26T09:38:45.775629Z",
     "start_time": "2022-01-26T09:38:38.957977Z"
    }
   },
   "outputs": [],
   "source": [
    "import cv2\n",
    "import numpy as np\n",
    "\n",
    "point_list = []\n",
    "COLOR = (255,0,255) \n",
    "def mouse_handler(event, x,y,flags,param):\n",
    "    if event == cv2.EVENT_LBUTTONDOWN:\n",
    "        point_list.append((x,y))\n",
    "    for point in point_list:\n",
    "        cv2.circle(src_img,point,10,COLOR,cv2.FILLED)\n",
    "        cv2.imshow('img',src_img)\n",
    "    \n",
    "    if len(point_list) == 4:\n",
    "        show_result() # 결과 출력 함수\n",
    "        \n",
    "def show_result():\n",
    "    width, height = 530,710\n",
    "    src = np.float32(point_list)\n",
    "    dst = np.array([[0,0],[width,0],[width,height],[0,height]],dtype=np.float32)\n",
    "    \n",
    "    matrix = cv2.getPerspectiveTransform(src,dst)\n",
    "    result = cv2.warpPerspective(src_img,matrix,(width, height))\n",
    "    \n",
    "    cv2.imshow('result',result)\n",
    "\n",
    "src_img = cv2.imread('poker.jpg')\n",
    "cv2.namedWindow('img') # img 란 이름의 윈도우를 먼저 만들어 두는 것. 여기에 마우스 이벤트를 처리하기 위한 핸들러 적용\n",
    "cv2.setMouseCallback('img',mouse_handler)\n",
    "cv2.imshow('img',src_img)\n",
    "cv2.waitKey(0)\n",
    "cv2.destroyAllWindows()"
   ]
  },
  {
   "cell_type": "markdown",
   "metadata": {},
   "source": [
    "### 프로젝트(지점 선 긋기)"
   ]
  },
  {
   "cell_type": "code",
   "execution_count": 19,
   "metadata": {
    "ExecuteTime": {
     "end_time": "2022-01-26T10:07:58.805536Z",
     "start_time": "2022-01-26T10:07:49.908668Z"
    }
   },
   "outputs": [
    {
     "name": "stdout",
     "output_type": "stream",
     "text": [
      "701 157\n",
      "1125 417\n",
      "722 999\n",
      "289 700\n"
     ]
    }
   ],
   "source": [
    "import cv2\n",
    "import numpy as np\n",
    "\n",
    "point_list = []\n",
    "COLOR = (255,0,255)\n",
    "THICKNESS = 3\n",
    "drawing = False # 선을 그릴지 여부\n",
    "\n",
    "def mouse_handler(event, x,y,flags,param):\n",
    "    global drawing\n",
    "    if event == cv2.EVENT_LBUTTONDOWN:\n",
    "        drawing = True # 선을 그리기 시작\n",
    "        print(x,y)\n",
    "        point_list.append((x,y))\n",
    "    if drawing:\n",
    "        prev_point = None # 직선의 시작점\n",
    "        for point in point_list:\n",
    "            cv2.circle(src_img,point,10,COLOR,cv2.FILLED)\n",
    "            if prev_point:\n",
    "                cv2.line(src_img,prev_point,point,COLOR,THICKNESS,cv2.LINE_AA)\n",
    "            prev_point = point\n",
    "    \n",
    "    if len(point_list) == 4:\n",
    "        show_result() # 결과 출력 함수\n",
    "        \n",
    "def show_result():\n",
    "    width, height = 530,710\n",
    "    src = np.float32(point_list)\n",
    "    dst = np.array([[0,0],[width,0],[width,height],[0,height]],dtype=np.float32)\n",
    "    \n",
    "    matrix = cv2.getPerspectiveTransform(src,dst)\n",
    "    result = cv2.warpPerspective(src_img,matrix,(width, height))\n",
    "    \n",
    "    cv2.imshow('result',result)\n",
    "\n",
    "src_img = cv2.imread('poker.jpg')\n",
    "cv2.namedWindow('img') # img 란 이름의 윈도우를 먼저 만들어 두는 것. 여기에 마우스 이벤트를 처리하기 위한 핸들러 적용\n",
    "cv2.setMouseCallback('img',mouse_handler)\n",
    "cv2.imshow('img',src_img)\n",
    "cv2.waitKey(0)\n",
    "cv2.destroyAllWindows()"
   ]
  },
  {
   "cell_type": "code",
   "execution_count": null,
   "metadata": {},
   "outputs": [],
   "source": []
  }
 ],
 "metadata": {
  "kernelspec": {
   "display_name": "Python 3",
   "language": "python",
   "name": "python3"
  },
  "language_info": {
   "codemirror_mode": {
    "name": "ipython",
    "version": 3
   },
   "file_extension": ".py",
   "mimetype": "text/x-python",
   "name": "python",
   "nbconvert_exporter": "python",
   "pygments_lexer": "ipython3",
   "version": "3.8.5"
  },
  "toc": {
   "base_numbering": 1,
   "nav_menu": {},
   "number_sections": true,
   "sideBar": true,
   "skip_h1_title": false,
   "title_cell": "Table of Contents",
   "title_sidebar": "Contents",
   "toc_cell": false,
   "toc_position": {},
   "toc_section_display": true,
   "toc_window_display": false
  },
  "varInspector": {
   "cols": {
    "lenName": 16,
    "lenType": 16,
    "lenVar": 40
   },
   "kernels_config": {
    "python": {
     "delete_cmd_postfix": "",
     "delete_cmd_prefix": "del ",
     "library": "var_list.py",
     "varRefreshCmd": "print(var_dic_list())"
    },
    "r": {
     "delete_cmd_postfix": ") ",
     "delete_cmd_prefix": "rm(",
     "library": "var_list.r",
     "varRefreshCmd": "cat(var_dic_list()) "
    }
   },
   "types_to_exclude": [
    "module",
    "function",
    "builtin_function_or_method",
    "instance",
    "_Feature"
   ],
   "window_display": false
  }
 },
 "nbformat": 4,
 "nbformat_minor": 4
}
