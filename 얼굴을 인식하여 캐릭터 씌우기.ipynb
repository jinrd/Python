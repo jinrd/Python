{
 "cells": [
  {
   "cell_type": "markdown",
   "id": "6fcbd760",
   "metadata": {},
   "source": [
    "# 프로젝트 : 얼굴을 인식하여 캐릭터 씌우기"
   ]
  },
  {
   "cell_type": "markdown",
   "id": "dc9b8b65",
   "metadata": {},
   "source": [
    "## Face Detection vs Face Recognition"
   ]
  },
  {
   "cell_type": "markdown",
   "id": "556c8663",
   "metadata": {},
   "source": [
    "> pip install mediapipe"
   ]
  },
  {
   "cell_type": "code",
   "execution_count": 10,
   "id": "c9a55d17",
   "metadata": {},
   "outputs": [],
   "source": [
    "import cv2\n",
    "import mediapipe as mp\n",
    "\n",
    "# 얼굴을 찾고, 찾은 얼굴에 표시를 해주기 위한 변수 정의\n",
    "mp_face_detection = mp.solutions.face_detection # 얼굴 검출을 위해서 face_detection 모듈을 사용\n",
    "mp_drawing = mp.solutions.drawing_utils # 얼굴의 특징을 그리기 위한 drawing_utils 모듈을 사용\n",
    "\n",
    "# 동영상 파일 열기\n",
    "cap = cv2.VideoCapture('face_video.mp4')\n",
    "\n",
    "# 별도 close 할 일 없이 with 를 벗어나면 close 를 해준다.\n",
    "with mp_face_detection.FaceDetection(model_selection=0, min_detection_confidence=0.7) as face_detection:\n",
    "    while cap.isOpened():\n",
    "        success, image = cap.read()\n",
    "        if not success:\n",
    "            break\n",
    "            \n",
    "        # To improve performance, optionally mark the image as not writeable to\n",
    "        # pass by reference.\n",
    "        image.flags.writeable = False\n",
    "        image = cv2.cvtColor(image, cv2.COLOR_BGR2RGB)\n",
    "        results = face_detection.process(image)\n",
    "\n",
    "        # Draw the face detection annotations on the image.\n",
    "        image.flags.writeable = True\n",
    "        image = cv2.cvtColor(image, cv2.COLOR_RGB2BGR)\n",
    "        if results.detections:\n",
    "            \n",
    "            # 6개의 특징 : 오른쪽 눈, 왼쪽 논, 코 끝 부분,입 중심, 오른쪽귀, 왼쪽 귀\n",
    "            for detection in results.detections:\n",
    "#                 mp_drawing.draw_detection(image, detection)\n",
    "#                 print(detection)\n",
    "                \n",
    "                # 특정 위치 가져오기\n",
    "                keypoints = detection.location_data.relative_keypoints\n",
    "                right_eye = keypoints[0] # 오른 눈\n",
    "                left_eye = keypoints[1] # 왼 눈\n",
    "                nose_tip = keypoints[2] # 코 끝 부분\n",
    "                \n",
    "                h,w,_ = image.shape # height, width, channel : 이미지로부터 세로 가로 크기 가져옴\n",
    "                \n",
    "                right_eye = (int(right_eye.x*w) , int(right_eye.y*h)) # 이미지 내에서 실제 좌표 (x,y)\n",
    "                left_eye = (int(left_eye.x*w),int(left_eye.y*h))\n",
    "                nose_tip = (int(nose_tip.x*w),int(nose_tip.y*h))\n",
    "                # 양눈에 동그라미 그리기\n",
    "                cv2.circle(image,right_eye,50,(255,0,0),10,cv2.LINE_AA)\n",
    "                cv2.circle(image,left_eye,50,(0,255,0),10,cv2.LINE_AA)\n",
    "                cv2.circle(image,nose_tip,75,(0,255,255),10,cv2.LINE_AA)\n",
    "                \n",
    "        # Flip the image horizontally for a selfie-view display.\n",
    "            cv2.imshow('MediaPipe Face Detection', cv2.resize(image,None,fx=0.5,fy=0.5))\n",
    "        if cv2.waitKey(1) == ord('q'):\n",
    "              break\n",
    "cap.release()\n",
    "cv2.destroyAllWindows()"
   ]
  },
  {
   "cell_type": "code",
   "execution_count": null,
   "id": "ecbf15e7",
   "metadata": {},
   "outputs": [],
   "source": []
  }
 ],
 "metadata": {
  "kernelspec": {
   "display_name": "Python 3 (ipykernel)",
   "language": "python",
   "name": "python3"
  },
  "language_info": {
   "codemirror_mode": {
    "name": "ipython",
    "version": 3
   },
   "file_extension": ".py",
   "mimetype": "text/x-python",
   "name": "python",
   "nbconvert_exporter": "python",
   "pygments_lexer": "ipython3",
   "version": "3.9.7"
  }
 },
 "nbformat": 4,
 "nbformat_minor": 5
}
