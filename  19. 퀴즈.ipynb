{
 "cells": [
  {
   "cell_type": "markdown",
   "id": "72645bad",
   "metadata": {},
   "source": [
    "# 퀴즈"
   ]
  },
  {
   "cell_type": "markdown",
   "id": "58977a5a",
   "metadata": {},
   "source": [
    "## OpenCV를 이용하여 가로로 쵤영된 영상을 세로로 회전하는 프로그램"
   ]
  },
  {
   "cell_type": "markdown",
   "id": "7350ae74",
   "metadata": {},
   "source": [
    "### 조건\n",
    "1. 회전 : 시계 반대 방향\n",
    "1. 재생속도 (FPS) 원본 : 4\n",
    "1. 출력 파일명 : city_output.avi(코덱 : DIVX)"
   ]
  },
  {
   "cell_type": "code",
   "execution_count": 5,
   "id": "9390859b",
   "metadata": {},
   "outputs": [],
   "source": [
    "import cv2\n",
    "\n",
    "# 동영상 불러오기\n",
    "cap = cv2.VideoCapture('city.mp4')\n",
    "\n",
    "# 코덱 정의하기\n",
    "fourcc = cv2.VideoWriter_fourcc(*'DIVX')\n",
    "\n",
    "# 프레임 크기, FPS\n",
    "fps = cap.get(cv2.CAP_PROP_FPS) * 4 # 영상 재생 속도 4배\n",
    "width = round(cap.get(cv2.CAP_PROP_FRAME_WIDTH))\n",
    "height = round(cap.get(cv2.CAP_PROP_FRAME_HEIGHT))\n",
    "\n",
    "# 파일 저장 형태 \n",
    "out = cv2.VideoWriter('city_output.avi',fourcc,fps,(height,width))\n",
    "\n",
    "while cap.isOpened():\n",
    "    ret, frame = cap.read() # ret : return 여부 ,frame : 읽은 이미지\n",
    "    \n",
    "    if not ret:\n",
    "        break\n",
    "    \n",
    "    frame_270 = cv2.rotate(frame,cv2.ROTATE_90_COUNTERCLOCKWISE) # 시계 반대 방향 90도\n",
    "    \n",
    "    out.write(frame_270)\n",
    "    \n",
    "    cv2.imshow('video',frame_270)\n",
    "    if cv2.waitKey(1) == ord('q'):\n",
    "        break\n",
    "        \n",
    "out.release() # 자원 해제\n",
    "cap.release() # 자원 해제\n",
    "cv2.destroyAllWindows()\n",
    "    \n"
   ]
  },
  {
   "cell_type": "code",
   "execution_count": 4,
   "id": "bd85fb26",
   "metadata": {},
   "outputs": [],
   "source": [
    "import cv2\n",
    "\n",
    "cap = cv2.VideoCapture('city.mp4 ')"
   ]
  }
 ],
 "metadata": {
  "kernelspec": {
   "display_name": "Python 3 (ipykernel)",
   "language": "python",
   "name": "python3"
  },
  "language_info": {
   "codemirror_mode": {
    "name": "ipython",
    "version": 3
   },
   "file_extension": ".py",
   "mimetype": "text/x-python",
   "name": "python",
   "nbconvert_exporter": "python",
   "pygments_lexer": "ipython3",
   "version": "3.9.7"
  }
 },
 "nbformat": 4,
 "nbformat_minor": 5
}
